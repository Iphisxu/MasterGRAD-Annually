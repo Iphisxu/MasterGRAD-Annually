{
 "cells": [
  {
   "cell_type": "code",
   "execution_count": 2,
   "metadata": {},
   "outputs": [],
   "source": [
    "import pygrib as pg\n",
    "import numpy as np\n",
    "import os\n",
    "import shutil"
   ]
  },
  {
   "cell_type": "code",
   "execution_count": 7,
   "metadata": {},
   "outputs": [],
   "source": [
    "testpath = 'F:/Data/Graduation/fnl_months/test/'\n",
    "files = os.listdir(testpath)\n",
    "filelist = [testpath+filename for filename in files]"
   ]
  },
  {
   "attachments": {},
   "cell_type": "markdown",
   "metadata": {},
   "source": [
    "# 比较keys的年份差异"
   ]
  },
  {
   "cell_type": "code",
   "execution_count": 13,
   "metadata": {},
   "outputs": [
    {
     "name": "stdout",
     "output_type": "stream",
     "text": [
      "225 237\n"
     ]
    }
   ],
   "source": [
    "grb_2014 = pg.open(filelist[0])\n",
    "grb_2022 = pg.open(filelist[-1])\n",
    "\n",
    "msg_2014 = grb_2014.message(1).keys()\n",
    "msg_2022 = grb_2022.message(1).keys()\n",
    "print(len(msg_2014),len(msg_2022))"
   ]
  },
  {
   "cell_type": "code",
   "execution_count": 16,
   "metadata": {},
   "outputs": [
    {
     "name": "stdout",
     "output_type": "stream",
     "text": [
      "225\n",
      "237\n",
      "237\n",
      "237\n",
      "237\n",
      "237\n",
      "237\n",
      "237\n",
      "237\n"
     ]
    }
   ],
   "source": [
    "for file in filelist:\n",
    "    grb = pg.open(file)\n",
    "    print(len(grb.message(1).keys()))\n",
    "    grb.close()"
   ]
  },
  {
   "cell_type": "code",
   "execution_count": 19,
   "metadata": {},
   "outputs": [
    {
     "name": "stdout",
     "output_type": "stream",
     "text": [
      "相同的元素： ['globalDomain', 'GRIBEditionNumber', 'tablesVersionLatestOfficial', 'tablesVersionLatest', 'grib2divider', 'angleSubdivisions', 'missingValue', 'ieeeFloats', 'isHindcast', 'section0Length', 'identifier', 'discipline', 'editionNumber', 'totalLength', 'sectionNumber', 'section1Length', 'numberOfSection', 'centre', 'centreDescription', 'subCentre', 'tablesVersion', 'masterDir', 'localTablesVersion', 'significanceOfReferenceTime', 'year', 'month', 'day', 'hour', 'minute', 'second', 'dataDate', 'julianDay', 'dataTime', 'productionStatusOfProcessedData', 'typeOfProcessedData', 'md5Section1', 'selectStepTemplateInterval', 'selectStepTemplateInstant', 'stepType', 'is_chemical', 'is_chemical_distfn', 'is_chemical_srcsink', 'is_aerosol', 'is_aerosol_optical', 'setCalendarId', 'deleteCalendarId', 'sectionNumber', 'grib2LocalSectionPresent', 'deleteLocalDefinition', 'sectionNumber', 'gridDescriptionSectionPresent', 'section3Length', 'numberOfSection', 'sourceOfGridDefinition', 'numberOfDataPoints', 'numberOfOctectsForNumberOfPoints', 'interpretationOfNumberOfPoints', 'PLPresent', 'gridDefinitionTemplateNumber', 'gridDefinitionDescription', 'shapeOfTheEarth', 'scaleFactorOfRadiusOfSphericalEarth', 'scaledValueOfRadiusOfSphericalEarth', 'scaleFactorOfEarthMajorAxis', 'scaledValueOfEarthMajorAxis', 'scaleFactorOfEarthMinorAxis', 'scaledValueOfEarthMinorAxis', 'radius', 'Ni', 'Nj', 'basicAngleOfTheInitialProductionDomain', 'mBasicAngle', 'angleMultiplier', 'mAngleMultiplier', 'subdivisionsOfBasicAngle', 'angleDivisor', 'latitudeOfFirstGridPoint', 'longitudeOfFirstGridPoint', 'resolutionAndComponentFlags', 'resolutionAndComponentFlags1', 'resolutionAndComponentFlags2', 'iDirectionIncrementGiven', 'jDirectionIncrementGiven', 'uvRelativeToGrid', 'resolutionAndComponentFlags6', 'resolutionAndComponentFlags7', 'resolutionAndComponentFlags8', 'ijDirectionIncrementGiven', 'latitudeOfLastGridPoint', 'longitudeOfLastGridPoint', 'iDirectionIncrement', 'jDirectionIncrement', 'scanningMode', 'iScansNegatively', 'jScansPositively', 'jPointsAreConsecutive', 'alternativeRowScanning', 'iScansPositively', 'jScansNegatively', 'scanningMode5', 'scanningMode6', 'scanningMode7', 'scanningMode8', 'g2grid', 'latitudeOfFirstGridPointInDegrees', 'longitudeOfFirstGridPointInDegrees', 'latitudeOfLastGridPointInDegrees', 'longitudeOfLastGridPointInDegrees', 'iDirectionIncrementInDegrees', 'jDirectionIncrementInDegrees', 'latLonValues', 'latitudes', 'longitudes', 'distinctLatitudes', 'distinctLongitudes', 'gridType', 'md5Section3', 'sectionNumber', 'section4Length', 'numberOfSection', 'NV', 'neitherPresent', 'datasetForLocal', 'productDefinitionTemplateNumber', 'genVertHeightCoords', 'parameterCategory', 'parameterNumber', 'parameterUnits', 'parameterName', 'typeOfGeneratingProcess', 'backgroundProcess', 'generatingProcessIdentifier', 'hoursAfterDataCutoff', 'minutesAfterDataCutoff', 'indicatorOfUnitOfTimeRange', 'stepUnits', 'forecastTime', 'startStep', 'endStep', 'stepRange', 'stepTypeInternal', 'validityDate', 'validityTime', 'typeOfFirstFixedSurface', 'unitsOfFirstFixedSurface', 'nameOfFirstFixedSurface', 'scaleFactorOfFirstFixedSurface', 'scaledValueOfFirstFixedSurface', 'typeOfSecondFixedSurface', 'unitsOfSecondFixedSurface', 'nameOfSecondFixedSurface', 'scaleFactorOfSecondFixedSurface', 'scaledValueOfSecondFixedSurface', 'pressureUnits', 'typeOfLevel', 'level', 'bottomLevel', 'topLevel', 'tempPressureUnits', 'levtype', 'paramIdECMF', 'paramId', 'shortNameECMF', 'shortName', 'unitsECMF', 'units', 'nameECMF', 'name', 'cfNameECMF', 'cfName', 'cfVarNameECMF', 'cfVarName', 'modelName', 'ifsParam', 'PVPresent', 'deletePV', 'md5Section4', 'lengthOfHeaders', 'md5Headers', 'sectionNumber', 'section5Length', 'numberOfSection', 'numberOfValues', 'dataRepresentationTemplateNumber', 'packingType', 'referenceValue', 'referenceValueError', 'binaryScaleFactor', 'decimalScaleFactor', 'optimizeScaleFactor', 'bitsPerValue', 'typeOfOriginalFieldValues', 'md5Section5', 'sectionNumber', 'section6Length', 'numberOfSection', 'bitMapIndicator', 'bitmapPresent', 'md5Section6', 'sectionNumber', 'section7Length', 'numberOfSection', 'codedValues', 'values', 'maximum', 'minimum', 'average', 'standardDeviation', 'skewness', 'kurtosis', 'isConstant', 'numberOfMissing', 'changeDecimalPrecision', 'decimalPrecision', 'setBitsPerValue', 'getNumberOfValues', 'scaleValuesBy', 'offsetValuesBy', 'productType', 'md5Section7', 'section8Length', 'analDate', 'validDate']\n",
      "差异的元素： ['2022有2014无:', 'groupSplittingMethodUsed', 'missingValueManagementUsed', 'primaryMissingValueSubstitute', 'secondaryMissingValueSubstitute', 'numberOfGroupsOfDataValues', 'referenceForGroupWidths', 'numberOfBitsUsedForTheGroupWidths', 'referenceForGroupLengths', 'lengthIncrementForTheGroupLengths', 'trueLengthOfLastGroup', 'numberOfBitsForScaledGroupLengths', 'orderOfSpatialDifferencing', 'numberOfOctetsExtraDescriptors', 'missingValuesPresent', '2014有2022无:', 'typeOfCompressionUsed', 'targetCompressionRatio']\n"
     ]
    }
   ],
   "source": [
    "common_elements = []\n",
    "for elem in msg_2022:\n",
    "    if elem in msg_2014:\n",
    "        common_elements.append(elem)\n",
    "\n",
    "print(\"相同的元素：\", common_elements)\n",
    "\n",
    "# 比较两个列表的差异元素\n",
    "difference_elements = ['2022有2014无:']\n",
    "for elem in msg_2022:\n",
    "    if elem not in msg_2014:\n",
    "        difference_elements.append(elem)\n",
    "\n",
    "difference_elements.append('2014有2022无:')\n",
    "\n",
    "for elem in msg_2014:\n",
    "    if elem not in msg_2022:\n",
    "        difference_elements.append(elem)\n",
    "\n",
    "print(\"差异的元素：\", difference_elements)"
   ]
  },
  {
   "cell_type": "code",
   "execution_count": 21,
   "metadata": {},
   "outputs": [],
   "source": [
    "with open('../../data/keys.txt', 'w') as k:\n",
    "    k.write('Keys in common:\\n')\n",
    "    for i, elem in enumerate(common_elements):\n",
    "        k.write(f\"{i}, {elem}\\n\")\n",
    "    k.write('\\nKeys in difference:\\n')\n",
    "    for i, elem in enumerate(difference_elements):\n",
    "        k.write(f\"{i}, {elem}\\n\")\n",
    "k.close()"
   ]
  },
  {
   "attachments": {},
   "cell_type": "markdown",
   "metadata": {},
   "source": [
    "# 比较变量的年份差异"
   ]
  },
  {
   "cell_type": "code",
   "execution_count": 49,
   "metadata": {},
   "outputs": [
    {
     "name": "stdout",
     "output_type": "stream",
     "text": [
      "20140901_00    288\n",
      "20150901_00    322\n",
      "20160901_00    352\n",
      "20170901_00    353\n",
      "20180901_00    353\n",
      "20190901_00    520\n",
      "20200901_00    522\n",
      "20210901_00    696\n",
      "20220901_00    696\n"
     ]
    }
   ],
   "source": [
    "for file in filelist:\n",
    "    grb = pg.open(file)\n",
    "    print(file[-20:-9],'  ',grb.messages)\n",
    "    grb.close()"
   ]
  },
  {
   "cell_type": "code",
   "execution_count": 47,
   "metadata": {},
   "outputs": [
    {
     "data": {
      "text/plain": [
       "151"
      ]
     },
     "execution_count": 47,
     "metadata": {},
     "output_type": "execute_result"
    }
   ],
   "source": [
    "grb_2014.message(1)['paramId']"
   ]
  },
  {
   "cell_type": "code",
   "execution_count": 48,
   "metadata": {},
   "outputs": [],
   "source": [
    "for file in filelist:\n",
    "    grb = pg.open(file)\n",
    "    with open(f'../../data/msg_{file[-20:-16]}.csv','w') as f:\n",
    "        for message in grb:\n",
    "            output = f\"{message['paramId']}, {message['name']}, {message['units']}, {message['level']}, {message['typeOfLevel']}\\n\"\n",
    "            f.write(output)\n",
    "    grb.close()"
   ]
  },
  {
   "cell_type": "code",
   "execution_count": 50,
   "metadata": {},
   "outputs": [],
   "source": [
    "ids = {}\n",
    "for file in filelist:\n",
    "    year = file[-20:-16]\n",
    "    grb = pg.open(file)\n",
    "    ids[year] = [msg['name']+'_'+str(msg['level']) for msg in grb]\n",
    "    grb.close()"
   ]
  },
  {
   "cell_type": "code",
   "execution_count": 53,
   "metadata": {},
   "outputs": [],
   "source": [
    "with open('../../data/msg_diff.txt','w') as f:\n",
    "    for year in range(2014,2022):\n",
    "        f.write(f'Difference between {year} and 2022:\\n')\n",
    "        exist = []\n",
    "        not_exist = []\n",
    "        for i, id_2022 in enumerate(ids['2022']):\n",
    "            try:\n",
    "                j = ids[f'{year}'].index(id_2022)\n",
    "                output = f\"Message {i} ({id_2022}) in 2022 corresponds to {j} in {year}\\n\"\n",
    "                exist.append(output)\n",
    "            except ValueError:\n",
    "                output = f\"Warning: Message {i} ({id_2022}) in 2022 not corresponds to {j} in {year}\\n\"\n",
    "                not_exist.append(output)\n",
    "        f.write('Same Messages:\\n')\n",
    "        f.writelines(exist)\n",
    "        f.write('Not Same Messages:\\n')\n",
    "        f.writelines(not_exist)"
   ]
  }
 ],
 "metadata": {
  "kernelspec": {
   "display_name": "env_cfgrib",
   "language": "python",
   "name": "python3"
  },
  "language_info": {
   "codemirror_mode": {
    "name": "ipython",
    "version": 3
   },
   "file_extension": ".py",
   "mimetype": "text/x-python",
   "name": "python",
   "nbconvert_exporter": "python",
   "pygments_lexer": "ipython3",
   "version": "3.8.8"
  },
  "orig_nbformat": 4
 },
 "nbformat": 4,
 "nbformat_minor": 2
}
