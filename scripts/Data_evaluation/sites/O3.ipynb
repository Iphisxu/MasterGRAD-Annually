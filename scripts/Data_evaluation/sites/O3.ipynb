{
 "cells": [
  {
   "cell_type": "markdown",
   "metadata": {},
   "source": [
    "# 毕业论文`GRAD`\n",
    "## 计算站点验证结果并平均\n",
    "\n",
    "---\n",
    "*@author: Evan*\\\n",
    "*@date: 2024-03-30*"
   ]
  },
  {
   "cell_type": "code",
   "execution_count": 1,
   "metadata": {},
   "outputs": [],
   "source": [
    "import numpy as np\n",
    "import pandas as pd\n",
    "import xarray as xr\n",
    "import geopandas as gpd\n",
    "\n",
    "import matplotlib.pyplot as plt\n",
    "from matplotlib import rcParams\n",
    "config = {\n",
    "    \"font.family\":'Times New Roman',\n",
    "    \"mathtext.fontset\":'stix',\n",
    "    \"font.serif\": ['SimSun'],\n",
    "}\n",
    "rcParams.update(config)\n",
    "\n",
    "import sys\n",
    "sys.path.append('../../../src/')\n",
    "from namelist import *\n",
    "from mask import polygon_to_mask\n",
    "import ModelEvalLib as me\n",
    "from findpoint import findpoint\n",
    "\n",
    "# silence the warning note\n",
    "import warnings\n",
    "warnings.filterwarnings(\"ignore\")"
   ]
  },
  {
   "cell_type": "code",
   "execution_count": 2,
   "metadata": {},
   "outputs": [],
   "source": [
    "simvar = 'O3'\n",
    "obsvar = 'O3'"
   ]
  },
  {
   "cell_type": "code",
   "execution_count": 68,
   "metadata": {},
   "outputs": [],
   "source": [
    "sites = pd.read_excel(obs_dir + 'sitelocation.xlsx',index_col=0,\n",
    "                      usecols=['监测点编码','经度','纬度'])"
   ]
  },
  {
   "cell_type": "code",
   "execution_count": 87,
   "metadata": {},
   "outputs": [],
   "source": [
    "years = [2014,2015,2016,2019,2021,2022]\n",
    "months = ['Sep','Jul']\n",
    "columns = ['2014_Sep','2015_Sep','2016_Sep',\n",
    "           '2019_Sep','2021_Sep','2022_Sep',\n",
    "           '2019_Jul','2021_Jul','2022_Jul']\n",
    "dfout = pd.DataFrame(index=sites.index,columns=columns)\n",
    "\n",
    "for month in months:\n",
    "    for year in years:\n",
    "        if year <= 2016 and month == 'Jul':\n",
    "            continue\n",
    "        else:\n",
    "            ds = xr.open_dataset(datadir + f'processed/{month}_{year}/{month}_{year}_chem.nc')\n",
    "            obspath = get_obspath(month)\n",
    "            df = pd.read_excel(obspath + f'site_{obsvar}_{year}.xlsx',index_col=0)\n",
    "\n",
    "            for site in sites.index:\n",
    "                lon,lat = sites.loc[site]\n",
    "                xloc, yloc = findpoint(lon,lat,ds[simvar])\n",
    "                sim = ds[simvar][:,0,:,:].sel(x=xloc,y=yloc)\n",
    "                obs = df[site].interpolate(method='linear')\n",
    "                \n",
    "                metrics = me.CalculateMetrics(obs,sim)\n",
    "                mb = metrics.get_mb().values\n",
    "                if mb is not None:\n",
    "                    dfout.loc[site,f'{year}_{month}'] = mb\n",
    "\n",
    "dfout = dfout.astype(float)\n",
    "dfmean = dfout.mean(axis=0,skipna=True)"
   ]
  },
  {
   "cell_type": "code",
   "execution_count": 101,
   "metadata": {},
   "outputs": [
    {
     "data": {
      "text/plain": [
       "2014_Sep    26.221780\n",
       "2015_Sep    32.332831\n",
       "2016_Sep    41.367709\n",
       "2019_Sep    24.541599\n",
       "2021_Sep    28.531130\n",
       "2022_Sep    24.774965\n",
       "2019_Jul    35.281851\n",
       "2021_Jul    23.401754\n",
       "2022_Jul    19.186655\n",
       "dtype: float64"
      ]
     },
     "execution_count": 101,
     "metadata": {},
     "output_type": "execute_result"
    }
   ],
   "source": [
    "dfmean"
   ]
  },
  {
   "cell_type": "markdown",
   "metadata": {},
   "source": [
    "# 计算MDA8、Hmax以及百分位"
   ]
  },
  {
   "cell_type": "code",
   "execution_count": 102,
   "metadata": {},
   "outputs": [],
   "source": [
    "def calculate_hour(sites,years,months,columns,obsvar,simvar):\n",
    "    dfout = pd.DataFrame(index=sites.index,columns=columns)\n",
    "\n",
    "    for month in months:\n",
    "        for year in years:\n",
    "            if year <= 2016 and month == 'Jul':\n",
    "                continue\n",
    "            else:\n",
    "                ds = xr.open_dataset(datadir + f'processed/{month}_{year}/{month}_{year}_chem.nc')\n",
    "                obspath = get_obspath(month)\n",
    "                df = pd.read_excel(obspath + f'site_{obsvar}_{year}.xlsx',index_col=0)\n",
    "\n",
    "                for site in sites.index:\n",
    "                    lon,lat = sites.loc[site]\n",
    "                    xloc, yloc = findpoint(lon,lat,ds[simvar])\n",
    "                    sim = ds[simvar][:,0,:,:].sel(x=xloc,y=yloc)\n",
    "                    obs = df[site].interpolate(method='linear')\n",
    "                    \n",
    "                    metrics = me.CalculateMetrics(obs,sim)\n",
    "                    mb = metrics.get_mb().values\n",
    "                    if mb is not None:\n",
    "                        dfout.loc[site,f'{year}_{month}'] = mb\n",
    "\n",
    "    dfout = dfout.astype(float)\n",
    "    dfmean = dfout.mean(axis=0,skipna=True)\n",
    "    \n",
    "    return dfout, dfmean\n",
    "\n",
    "def calculate_mda8(sites,years,months,columns,obsvar,simvar):\n",
    "    dfout = pd.DataFrame(index=sites.index,columns=columns)\n",
    "\n",
    "    for month in months:\n",
    "        for year in years:\n",
    "            if year <= 2016 and month == 'Jul':\n",
    "                continue\n",
    "            else:\n",
    "                ds = xr.open_dataset(datadir + f'processed/{month}_{year}/{month}_{year}_chem.nc')\n",
    "                obspath = get_obspath(month)\n",
    "                df = pd.read_excel(obspath + f'site_{obsvar}_{year}.xlsx',index_col=0)\n",
    "\n",
    "                for site in sites.index:\n",
    "                    lon,lat = sites.loc[site]\n",
    "                    xloc, yloc = findpoint(lon,lat,ds[simvar])\n",
    "                    sim = ds[simvar][:,0,:,:].sel(x=xloc,y=yloc)\n",
    "                    \n",
    "                    obs = df[site].interpolate(method='linear')\n",
    "                    \n",
    "                    metrics = me.CalculateMetrics(obs,sim)\n",
    "                    mb = metrics.get_mb().values\n",
    "                    if mb is not None:\n",
    "                        dfout.loc[site,f'{year}_{month}'] = mb\n",
    "\n",
    "    dfout = dfout.astype(float)\n",
    "    dfmean = dfout.mean(axis=0,skipna=True)\n",
    "    \n",
    "    return dfout, dfmean\n",
    "\n",
    "def calculate_hmax(sites,years,months,columns,obsvar,simvar):\n",
    "    dfout = pd.DataFrame(index=sites.index,columns=columns)\n",
    "\n",
    "    for month in months:\n",
    "        for year in years:\n",
    "            if year <= 2016 and month == 'Jul':\n",
    "                continue\n",
    "            else:\n",
    "                ds = xr.open_dataset(datadir + f'processed/{month}_{year}/{month}_{year}_chem.nc')\n",
    "                obspath = get_obspath(month)\n",
    "                df = pd.read_excel(obspath + f'site_{obsvar}_{year}.xlsx',index_col=0)\n",
    "\n",
    "                for site in sites.index:\n",
    "                    lon,lat = sites.loc[site]\n",
    "                    xloc, yloc = findpoint(lon,lat,ds[simvar])\n",
    "                    sim = ds[simvar][:,0,:,:].sel(x=xloc,y=yloc)\n",
    "                    obs = df[site].interpolate(method='linear')\n",
    "                    \n",
    "                    metrics = me.CalculateMetrics(obs,sim)\n",
    "                    mb = metrics.get_mb().values\n",
    "                    if mb is not None:\n",
    "                        dfout.loc[site,f'{year}_{month}'] = mb\n",
    "\n",
    "    dfout = dfout.astype(float)\n",
    "    dfmean = dfout.mean(axis=0,skipna=True)\n",
    "    \n",
    "    return dfout, dfmean"
   ]
  },
  {
   "cell_type": "code",
   "execution_count": null,
   "metadata": {},
   "outputs": [],
   "source": []
  }
 ],
 "metadata": {
  "kernelspec": {
   "display_name": "base",
   "language": "python",
   "name": "python3"
  },
  "language_info": {
   "codemirror_mode": {
    "name": "ipython",
    "version": 3
   },
   "file_extension": ".py",
   "mimetype": "text/x-python",
   "name": "python",
   "nbconvert_exporter": "python",
   "pygments_lexer": "ipython3",
   "version": "3.10.12"
  }
 },
 "nbformat": 4,
 "nbformat_minor": 2
}
