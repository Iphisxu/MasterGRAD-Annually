{
 "cells": [
  {
   "cell_type": "markdown",
   "metadata": {},
   "source": [
    "# 毕业论文\n",
    "## 前置数据处理：使用`pygrib`读取FNL\n",
    "`Read FNL file Using pygrib`\n",
    "---\n",
    "*@author: Evan*\\\n",
    "*@date: 2023-10-07*"
   ]
  },
  {
   "cell_type": "code",
   "execution_count": 1,
   "metadata": {},
   "outputs": [],
   "source": [
    "import pygrib as pg\n",
    "import numpy as np\n",
    "\n",
    "# silence the warning note\n",
    "import warnings\n",
    "warnings.filterwarnings(\"ignore\")\n",
    "\n",
    "import sys\n",
    "sys.path.append('../../src/')\n",
    "from namelist import *"
   ]
  },
  {
   "cell_type": "markdown",
   "metadata": {},
   "source": [
    "# 逐步骤读取信息"
   ]
  },
  {
   "cell_type": "code",
   "execution_count": 11,
   "metadata": {},
   "outputs": [],
   "source": [
    "grb = pg.open(demodir + 'fnl_20140616_00_00.grib2')"
   ]
  },
  {
   "cell_type": "markdown",
   "metadata": {},
   "source": [
    "读取文件数据"
   ]
  },
  {
   "cell_type": "code",
   "execution_count": 4,
   "metadata": {},
   "outputs": [
    {
     "data": {
      "text/plain": [
       "[3:Temperature:K (instant):regular_ll:isobaricInhPa:level 1000 Pa:fcst time 0 hrs:from 201406160000,\n",
       " 9:Temperature:K (instant):regular_ll:isobaricInhPa:level 2000 Pa:fcst time 0 hrs:from 201406160000,\n",
       " 15:Temperature:K (instant):regular_ll:isobaricInhPa:level 3000 Pa:fcst time 0 hrs:from 201406160000,\n",
       " 21:Temperature:K (instant):regular_ll:isobaricInhPa:level 5000 Pa:fcst time 0 hrs:from 201406160000,\n",
       " 27:Temperature:K (instant):regular_ll:isobaricInhPa:level 7000 Pa:fcst time 0 hrs:from 201406160000,\n",
       " 33:Temperature:K (instant):regular_ll:isobaricInhPa:level 10000 Pa:fcst time 0 hrs:from 201406160000,\n",
       " 42:Temperature:K (instant):regular_ll:isobaricInhPa:level 15000 Pa:fcst time 0 hrs:from 201406160000,\n",
       " 50:Temperature:K (instant):regular_ll:isobaricInhPa:level 20000 Pa:fcst time 0 hrs:from 201406160000,\n",
       " 58:Temperature:K (instant):regular_ll:isobaricInhPa:level 25000 Pa:fcst time 0 hrs:from 201406160000,\n",
       " 66:Temperature:K (instant):regular_ll:isobaricInhPa:level 30000 Pa:fcst time 0 hrs:from 201406160000,\n",
       " 74:Temperature:K (instant):regular_ll:isobaricInhPa:level 35000 Pa:fcst time 0 hrs:from 201406160000,\n",
       " 82:Temperature:K (instant):regular_ll:isobaricInhPa:level 40000 Pa:fcst time 0 hrs:from 201406160000,\n",
       " 90:Temperature:K (instant):regular_ll:isobaricInhPa:level 45000 Pa:fcst time 0 hrs:from 201406160000,\n",
       " 98:Temperature:K (instant):regular_ll:isobaricInhPa:level 50000 Pa:fcst time 0 hrs:from 201406160000,\n",
       " 106:Temperature:K (instant):regular_ll:isobaricInhPa:level 55000 Pa:fcst time 0 hrs:from 201406160000,\n",
       " 114:Temperature:K (instant):regular_ll:isobaricInhPa:level 60000 Pa:fcst time 0 hrs:from 201406160000,\n",
       " 122:Temperature:K (instant):regular_ll:isobaricInhPa:level 65000 Pa:fcst time 0 hrs:from 201406160000,\n",
       " 130:Temperature:K (instant):regular_ll:isobaricInhPa:level 70000 Pa:fcst time 0 hrs:from 201406160000,\n",
       " 138:Temperature:K (instant):regular_ll:isobaricInhPa:level 75000 Pa:fcst time 0 hrs:from 201406160000,\n",
       " 146:Temperature:K (instant):regular_ll:isobaricInhPa:level 80000 Pa:fcst time 0 hrs:from 201406160000,\n",
       " 154:Temperature:K (instant):regular_ll:isobaricInhPa:level 85000 Pa:fcst time 0 hrs:from 201406160000,\n",
       " 162:Temperature:K (instant):regular_ll:isobaricInhPa:level 90000 Pa:fcst time 0 hrs:from 201406160000,\n",
       " 170:Temperature:K (instant):regular_ll:isobaricInhPa:level 92500 Pa:fcst time 0 hrs:from 201406160000,\n",
       " 178:Temperature:K (instant):regular_ll:isobaricInhPa:level 95000 Pa:fcst time 0 hrs:from 201406160000,\n",
       " 186:Temperature:K (instant):regular_ll:isobaricInhPa:level 97500 Pa:fcst time 0 hrs:from 201406160000,\n",
       " 194:Temperature:K (instant):regular_ll:isobaricInhPa:level 100000 Pa:fcst time 0 hrs:from 201406160000,\n",
       " 203:Temperature:K (instant):regular_ll:surface:level 0:fcst time 0 hrs:from 201406160000,\n",
       " 204:Temperature:K (instant):regular_ll:depthBelowLandLayer:levels 0.0-0.1 m:fcst time 0 hrs:from 201406160000,\n",
       " 206:Temperature:K (instant):regular_ll:depthBelowLandLayer:levels 0.1-0.4 m:fcst time 0 hrs:from 201406160000,\n",
       " 208:Temperature:K (instant):regular_ll:depthBelowLandLayer:levels 0.4-1.0 m:fcst time 0 hrs:from 201406160000,\n",
       " 210:Temperature:K (instant):regular_ll:depthBelowLandLayer:levels 1.0-2.0 m:fcst time 0 hrs:from 201406160000,\n",
       " 229:Temperature:K (instant):regular_ll:tropopause:level 0:fcst time 0 hrs:from 201406160000,\n",
       " 237:Temperature:K (instant):regular_ll:maxWind:level 0:fcst time 0 hrs:from 201406160000,\n",
       " 238:Temperature:K (instant):regular_ll:heightAboveSea:level 457 m:fcst time 0 hrs:from 201406160000,\n",
       " 241:Temperature:K (instant):regular_ll:heightAboveSea:level 914 m:fcst time 0 hrs:from 201406160000,\n",
       " 244:Temperature:K (instant):regular_ll:heightAboveSea:level 1524 m:fcst time 0 hrs:from 201406160000,\n",
       " 251:Temperature:K (instant):regular_ll:pressureFromGroundLayer:levels 3000-0 Pa:fcst time 0 hrs:from 201406160000,\n",
       " 264:Temperature:K (instant):regular_ll:sigma:level 0.995 sigma value:fcst time 0 hrs:from 201406160000,\n",
       " 274:Temperature:K (instant):regular_ll:potentialVorticity:level -2.147481648 K m2 kg-1 s-1:fcst time 0 hrs:from 201406160000,\n",
       " 280:Temperature:K (instant):regular_ll:potentialVorticity:level 2e-06 K m2 kg-1 s-1:fcst time 0 hrs:from 201406160000]"
      ]
     },
     "execution_count": 4,
     "metadata": {},
     "output_type": "execute_result"
    }
   ],
   "source": [
    "temp = grb.select(name='Temperature')\n",
    "temp"
   ]
  },
  {
   "cell_type": "code",
   "execution_count": 5,
   "metadata": {},
   "outputs": [],
   "source": [
    "temp_sel = temp[0]\n",
    "data = temp_sel.values"
   ]
  },
  {
   "cell_type": "code",
   "execution_count": 6,
   "metadata": {},
   "outputs": [
    {
     "name": "stdout",
     "output_type": "stream",
     "text": [
      "(181, 360)\n"
     ]
    },
    {
     "data": {
      "text/plain": [
       "array([[241.7, 241.7, 241.7, ..., 241.7, 241.7, 241.7],\n",
       "       [241.6, 241.6, 241.6, ..., 241.6, 241.6, 241.6],\n",
       "       [241.5, 241.5, 241.5, ..., 241.5, 241.5, 241.5],\n",
       "       ...,\n",
       "       [189.7, 189.7, 189.7, ..., 189.7, 189.7, 189.7],\n",
       "       [189.9, 189.9, 189.9, ..., 189.9, 189.9, 189.9],\n",
       "       [189.9, 189.9, 189.9, ..., 189.9, 189.9, 189.9]])"
      ]
     },
     "execution_count": 6,
     "metadata": {},
     "output_type": "execute_result"
    }
   ],
   "source": [
    "print(data.shape)\n",
    "data"
   ]
  },
  {
   "cell_type": "code",
   "execution_count": 12,
   "metadata": {},
   "outputs": [],
   "source": [
    "messages = grb.select()\n",
    "# 获取消息在文件中的位置\n",
    "offset = temp_sel.messagenumber - 1\n",
    "grb.close()"
   ]
  },
  {
   "cell_type": "markdown",
   "metadata": {},
   "source": [
    "# 修改数据，写入原变量"
   ]
  },
  {
   "cell_type": "code",
   "execution_count": 2,
   "metadata": {},
   "outputs": [],
   "source": [
    "# open one grib2 file\n",
    "grb = pg.open(demodir + 'fnl_20140616_00_00.grib2')\n",
    "# select temperature as you wish\n",
    "var = grb.select(name='Temperature')\n",
    "# select the first message and data in temperatures\n",
    "selected_var = var[0]\n",
    "data = selected_var.values\n",
    "# get the message number\n",
    "messages = grb.select()\n",
    "offset = selected_var.messagenumber - 1\n",
    "grb.close()"
   ]
  },
  {
   "cell_type": "code",
   "execution_count": 14,
   "metadata": {},
   "outputs": [
    {
     "data": {
      "text/plain": [
       "array([[241.7, 241.7, 241.7, ..., 241.7, 241.7, 241.7],\n",
       "       [241.6, 241.6, 241.6, ..., 241.6, 241.6, 241.6],\n",
       "       [241.5, 241.5, 241.5, ..., 241.5, 241.5, 241.5],\n",
       "       ...,\n",
       "       [189.7, 189.7, 189.7, ..., 189.7, 189.7, 189.7],\n",
       "       [189.9, 189.9, 189.9, ..., 189.9, 189.9, 189.9],\n",
       "       [189.9, 189.9, 189.9, ..., 189.9, 189.9, 189.9]])"
      ]
     },
     "execution_count": 14,
     "metadata": {},
     "output_type": "execute_result"
    }
   ],
   "source": [
    "var[0].values"
   ]
  },
  {
   "cell_type": "code",
   "execution_count": 15,
   "metadata": {},
   "outputs": [],
   "source": [
    "var[0].values=np.zeros([181,360])"
   ]
  },
  {
   "cell_type": "markdown",
   "metadata": {},
   "source": [
    "创建新的grib2文件"
   ]
  },
  {
   "cell_type": "code",
   "execution_count": 17,
   "metadata": {},
   "outputs": [],
   "source": [
    "# open the output grib2 file\n",
    "grbout = open(demodir + 'grbout.grib2', 'wb')\n",
    "# write all messages from temperature (including values)\n",
    "for i in range(len(var)):\n",
    "    msg = var[i].tostring()\n",
    "    grbout.write(msg)\n",
    "grbout.close()"
   ]
  },
  {
   "cell_type": "markdown",
   "metadata": {},
   "source": [
    "检查是否成功修改"
   ]
  },
  {
   "cell_type": "code",
   "execution_count": 18,
   "metadata": {},
   "outputs": [
    {
     "data": {
      "text/plain": [
       "array([[0., 0., 0., ..., 0., 0., 0.],\n",
       "       [0., 0., 0., ..., 0., 0., 0.],\n",
       "       [0., 0., 0., ..., 0., 0., 0.],\n",
       "       ...,\n",
       "       [0., 0., 0., ..., 0., 0., 0.],\n",
       "       [0., 0., 0., ..., 0., 0., 0.],\n",
       "       [0., 0., 0., ..., 0., 0., 0.]])"
      ]
     },
     "execution_count": 18,
     "metadata": {},
     "output_type": "execute_result"
    }
   ],
   "source": [
    "test = pg.open(demodir + 'grbout.grib2')\n",
    "test_var = test.select()\n",
    "test_var[0].values"
   ]
  }
 ],
 "metadata": {
  "kernelspec": {
   "display_name": "pygrib",
   "language": "python",
   "name": "python3"
  },
  "language_info": {
   "codemirror_mode": {
    "name": "ipython",
    "version": 3
   },
   "file_extension": ".py",
   "mimetype": "text/x-python",
   "name": "python",
   "nbconvert_exporter": "python",
   "pygments_lexer": "ipython3",
   "version": "3.8.17"
  }
 },
 "nbformat": 4,
 "nbformat_minor": 2
}
