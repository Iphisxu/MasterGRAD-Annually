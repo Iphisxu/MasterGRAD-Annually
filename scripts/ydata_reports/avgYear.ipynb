{
 "cells": [
  {
   "cell_type": "code",
   "execution_count": 1,
   "metadata": {},
   "outputs": [],
   "source": [
    "import os\n",
    "import numpy as np\n",
    "import xarray as xr\n",
    "import pandas as pd\n",
    "import geopandas as gpd\n",
    "from ydata_profiling import ProfileReport,compare\n",
    "\n",
    "import sys\n",
    "sys.path.append('../../src/')\n",
    "from namelist import *\n",
    "from mask import polygon_to_mask\n",
    "\n",
    "# silence the warning note\n",
    "import warnings\n",
    "warnings.filterwarnings(\"ignore\")"
   ]
  },
  {
   "cell_type": "markdown",
   "metadata": {},
   "source": [
    "## 将网格文件转换为表格"
   ]
  },
  {
   "cell_type": "code",
   "execution_count": 2,
   "metadata": {},
   "outputs": [],
   "source": [
    "month = \"Sep\"\n",
    "low_years = np.array([2016,2015,2014]) # 此处年份倒置是为了方便后续创建dataarray时取用时间维度\n",
    "high_years = np.array([2022,2021,2019])\n",
    "low_files  = [os.path.join(processed_dir, f\"{month}_{year}/{month}_{year}_mcip.nc\") for year in low_years]\n",
    "high_files = [os.path.join(processed_dir, f\"{month}_{year}/{month}_{year}_mcip.nc\") for year in high_years]\n",
    "\n",
    "variables = ['SFC_TMP','AIR_TMP','RH','SOL_RAD',\n",
    "             'WSPD10','WDIR10','PRES','CloudFRAC']\n",
    "level = 1000 # units: hPa\n"
   ]
  },
  {
   "cell_type": "code",
   "execution_count": 3,
   "metadata": {},
   "outputs": [],
   "source": [
    "shp = gpd.read_file(shp_PRD_adm)\n",
    "grid = xr.open_dataset(grid_d03)\n",
    "lon = grid.LON.squeeze()\n",
    "lat = grid.LAT.squeeze()\n",
    "\n",
    "mask = polygon_to_mask(shp.geometry[0], lon, lat)\n",
    "mask_da = xr.DataArray(mask, dims=('y','x'))"
   ]
  },
  {
   "cell_type": "code",
   "execution_count": 4,
   "metadata": {},
   "outputs": [],
   "source": [
    "def average_data(filelist, var, level):\n",
    "    select_data = []\n",
    "    for file in filelist:\n",
    "        ds = xr.open_dataset(file)\n",
    "        data = ds[var].sel(level=level,method='nearest')\n",
    "        select_data.append(data)\n",
    "        ds.close()\n",
    "        \n",
    "    averaged = (select_data[0].values \n",
    "                + select_data[1].values \n",
    "                + select_data[2].values) / 3\n",
    "    \n",
    "    avg_data = xr.DataArray(\n",
    "        averaged,\n",
    "        dims=data.dims,\n",
    "        coords=data.coords,\n",
    "        name=var\n",
    "    )\n",
    "    return avg_data"
   ]
  },
  {
   "cell_type": "code",
   "execution_count": 5,
   "metadata": {},
   "outputs": [],
   "source": [
    "def nc_to_df(files,variables,level,mask_da):\n",
    "    df = {}\n",
    "    for var in variables:\n",
    "        data = average_data(files, var, level)\n",
    "        masked_data = data.where(mask_da)\n",
    "        mean = masked_data.mean(dim=('x','y'),skipna=True)\n",
    "        df[var] = mean.to_dataframe().drop(columns=['level'])\n",
    "    df_concat = pd.concat(df,axis=1)\n",
    "    df_concat.columns = df_concat.columns.droplevel(0)\n",
    "    \n",
    "    return df_concat"
   ]
  },
  {
   "cell_type": "markdown",
   "metadata": {},
   "source": [
    "## `ProfileReport`"
   ]
  },
  {
   "cell_type": "code",
   "execution_count": 6,
   "metadata": {},
   "outputs": [],
   "source": [
    "df_low  = nc_to_df(low_files,variables,level,mask_da)\n",
    "df_high = nc_to_df(high_files,variables,level,mask_da)\n",
    "\n",
    "reports_low = ProfileReport(df_low, title=\"Low\")\n",
    "reports_high = ProfileReport(df_high, title=\"High\")\n"
   ]
  },
  {
   "cell_type": "code",
   "execution_count": 7,
   "metadata": {},
   "outputs": [
    {
     "data": {
      "application/vnd.jupyter.widget-view+json": {
       "model_id": "d83af66a26cd481da40c14188e61fdda",
       "version_major": 2,
       "version_minor": 0
      },
      "text/plain": [
       "Summarize dataset:   0%|          | 0/5 [00:00<?, ?it/s]"
      ]
     },
     "metadata": {},
     "output_type": "display_data"
    },
    {
     "data": {
      "application/vnd.jupyter.widget-view+json": {
       "model_id": "39de8fab5b58461887c10e5c583cad9e",
       "version_major": 2,
       "version_minor": 0
      },
      "text/plain": [
       "Summarize dataset:   0%|          | 0/5 [00:00<?, ?it/s]"
      ]
     },
     "metadata": {},
     "output_type": "display_data"
    }
   ],
   "source": [
    "comparison = compare([reports_low,reports_high])"
   ]
  },
  {
   "cell_type": "code",
   "execution_count": 8,
   "metadata": {},
   "outputs": [
    {
     "data": {
      "application/vnd.jupyter.widget-view+json": {
       "model_id": "344b8f2e487f4a149fc5e940cbc9bf15",
       "version_major": 2,
       "version_minor": 0
      },
      "text/plain": [
       "Generate report structure:   0%|          | 0/1 [00:00<?, ?it/s]"
      ]
     },
     "metadata": {},
     "output_type": "display_data"
    },
    {
     "data": {
      "application/vnd.jupyter.widget-view+json": {
       "model_id": "2c26b886f152428184b6456a4733b01e",
       "version_major": 2,
       "version_minor": 0
      },
      "text/plain": [
       "Render HTML:   0%|          | 0/1 [00:00<?, ?it/s]"
      ]
     },
     "metadata": {},
     "output_type": "display_data"
    },
    {
     "data": {
      "application/vnd.jupyter.widget-view+json": {
       "model_id": "e6649670b4164b8bb9c6afdc851e7f1f",
       "version_major": 2,
       "version_minor": 0
      },
      "text/plain": [
       "Export report to file:   0%|          | 0/1 [00:00<?, ?it/s]"
      ]
     },
     "metadata": {},
     "output_type": "display_data"
    }
   ],
   "source": [
    "comparison.to_file('D:/Academic/Project/GRAD/Annually/data/profile_reports/Report_avgYear.html')"
   ]
  },
  {
   "cell_type": "markdown",
   "metadata": {},
   "source": [
    "## 850hPa"
   ]
  },
  {
   "cell_type": "code",
   "execution_count": 6,
   "metadata": {},
   "outputs": [
    {
     "data": {
      "application/vnd.jupyter.widget-view+json": {
       "model_id": "026c58fffc664f18a47b0919f82ad4e0",
       "version_major": 2,
       "version_minor": 0
      },
      "text/plain": [
       "Summarize dataset:   0%|          | 0/5 [00:00<?, ?it/s]"
      ]
     },
     "metadata": {},
     "output_type": "display_data"
    },
    {
     "data": {
      "application/vnd.jupyter.widget-view+json": {
       "model_id": "e098a92a8e034fc39dffafe39288b7ac",
       "version_major": 2,
       "version_minor": 0
      },
      "text/plain": [
       "Summarize dataset:   0%|          | 0/5 [00:00<?, ?it/s]"
      ]
     },
     "metadata": {},
     "output_type": "display_data"
    },
    {
     "data": {
      "application/vnd.jupyter.widget-view+json": {
       "model_id": "c31751b994ed48cc8e3d86beff42af13",
       "version_major": 2,
       "version_minor": 0
      },
      "text/plain": [
       "Generate report structure:   0%|          | 0/1 [00:00<?, ?it/s]"
      ]
     },
     "metadata": {},
     "output_type": "display_data"
    },
    {
     "data": {
      "application/vnd.jupyter.widget-view+json": {
       "model_id": "75a2baffc9c447bab7a5dd1151734553",
       "version_major": 2,
       "version_minor": 0
      },
      "text/plain": [
       "Render HTML:   0%|          | 0/1 [00:00<?, ?it/s]"
      ]
     },
     "metadata": {},
     "output_type": "display_data"
    },
    {
     "data": {
      "application/vnd.jupyter.widget-view+json": {
       "model_id": "b40862bf22004ebb98439decb77865a8",
       "version_major": 2,
       "version_minor": 0
      },
      "text/plain": [
       "Export report to file:   0%|          | 0/1 [00:00<?, ?it/s]"
      ]
     },
     "metadata": {},
     "output_type": "display_data"
    }
   ],
   "source": [
    "month = \"Sep\"\n",
    "low_years = np.array([2016,2015,2014])\n",
    "high_years = np.array([2022,2021,2019])\n",
    "low_files  = [os.path.join(processed_dir, f\"{month}_{year}/{month}_{year}_mcip.nc\") for year in low_years]\n",
    "high_files = [os.path.join(processed_dir, f\"{month}_{year}/{month}_{year}_mcip.nc\") for year in high_years]\n",
    "\n",
    "variables = ['AIR_TMP','RH','SOL_RAD','PRES']\n",
    "level = 850 # units: hPa\n",
    "\n",
    "shp = gpd.read_file(shp_PRD_adm)\n",
    "grid = xr.open_dataset(grid_d03)\n",
    "lon = grid.LON.squeeze()\n",
    "lat = grid.LAT.squeeze()\n",
    "\n",
    "mask = polygon_to_mask(shp.geometry[0], lon, lat)\n",
    "mask_da = xr.DataArray(mask, dims=('y','x'))\n",
    "\n",
    "df_low  = nc_to_df(low_files,variables,level,mask_da)\n",
    "df_high = nc_to_df(high_files,variables,level,mask_da)\n",
    "\n",
    "reports_low = ProfileReport(df_low, title=\"Low\")\n",
    "reports_high = ProfileReport(df_high, title=\"High\")\n",
    "\n",
    "comparison = compare([reports_low,reports_high])\n",
    "comparison.to_file('D:/Academic/Project/GRAD/Annually/data/profile_reports/Report_avgYear_850.html')\n"
   ]
  }
 ],
 "metadata": {
  "kernelspec": {
   "display_name": "base",
   "language": "python",
   "name": "python3"
  },
  "language_info": {
   "codemirror_mode": {
    "name": "ipython",
    "version": 3
   },
   "file_extension": ".py",
   "mimetype": "text/x-python",
   "name": "python",
   "nbconvert_exporter": "python",
   "pygments_lexer": "ipython3",
   "version": "3.10.12"
  }
 },
 "nbformat": 4,
 "nbformat_minor": 2
}
