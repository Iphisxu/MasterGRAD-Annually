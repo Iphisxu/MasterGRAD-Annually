{
 "cells": [
  {
   "cell_type": "code",
   "execution_count": 1,
   "metadata": {},
   "outputs": [],
   "source": [
    "import os\n",
    "import numpy as np\n",
    "import xarray as xr\n",
    "import pandas as pd\n",
    "import geopandas as gpd\n",
    "from ydata_profiling import ProfileReport,compare\n",
    "\n",
    "import sys\n",
    "sys.path.append('../../src/')\n",
    "from namelist import *\n",
    "from mask import polygon_to_mask, average_data\n",
    "\n",
    "# silence the warning note\n",
    "import warnings\n",
    "warnings.filterwarnings(\"ignore\")"
   ]
  },
  {
   "cell_type": "markdown",
   "metadata": {},
   "source": [
    "## 将网格文件转换为表格"
   ]
  },
  {
   "cell_type": "code",
   "execution_count": 2,
   "metadata": {},
   "outputs": [],
   "source": [
    "month = \"Sep\"\n",
    "years = [2019,2021,2022]\n",
    "\n",
    "variables = ['SFC_TMP','AIR_TMP','RH','SOL_RAD',\n",
    "             'WSPD10','WDIR10','PRES','CloudFRAC']\n",
    "level = 1000 # units: hPa\n"
   ]
  },
  {
   "cell_type": "code",
   "execution_count": 3,
   "metadata": {},
   "outputs": [],
   "source": [
    "shp = gpd.read_file(shp_PRD_adm)\n",
    "grid = xr.open_dataset(grid_d03)\n",
    "lon = grid.LON.squeeze()\n",
    "lat = grid.LAT.squeeze()\n",
    "\n",
    "mask = polygon_to_mask(shp.geometry[0], lon, lat)\n",
    "mask_da = xr.DataArray(mask, dims=('y','x'))"
   ]
  },
  {
   "cell_type": "code",
   "execution_count": 4,
   "metadata": {},
   "outputs": [],
   "source": [
    "def nc_to_df(ds,variables,level,mask_da):\n",
    "    df = {}\n",
    "    for var in variables:\n",
    "        data = ds[var].sel(level=level,method='nearest')\n",
    "        masked_data = data.where(mask_da)\n",
    "        mean = masked_data.mean(dim=('x','y'),skipna=True)\n",
    "        df[var] = mean.to_dataframe().drop(columns=['level'])\n",
    "    df_concat = pd.concat(df,axis=1)\n",
    "    df_concat.columns = df_concat.columns.droplevel(0)\n",
    "    \n",
    "    return df_concat"
   ]
  },
  {
   "cell_type": "markdown",
   "metadata": {},
   "source": [
    "## `ProfileReport`"
   ]
  },
  {
   "cell_type": "code",
   "execution_count": 5,
   "metadata": {},
   "outputs": [],
   "source": [
    "reports = {}\n",
    "\n",
    "for year in years:\n",
    "    ds = xr.open_dataset(os.path.join(processed_dir, f\"{month}_{year}/{month}_{year}_mcip.nc\"))\n",
    "    df = nc_to_df(ds,variables,level,mask_da)\n",
    "    reports[year] = ProfileReport(df, title=f\"{month}_{year}\")\n",
    "    "
   ]
  },
  {
   "cell_type": "code",
   "execution_count": 6,
   "metadata": {},
   "outputs": [
    {
     "data": {
      "application/vnd.jupyter.widget-view+json": {
       "model_id": "5aa129fd84e5427c8fb83a3c1665fef4",
       "version_major": 2,
       "version_minor": 0
      },
      "text/plain": [
       "Summarize dataset:   0%|          | 0/5 [00:00<?, ?it/s]"
      ]
     },
     "metadata": {},
     "output_type": "display_data"
    },
    {
     "data": {
      "application/vnd.jupyter.widget-view+json": {
       "model_id": "4d37da34c9644c22b9409b61f4a16b14",
       "version_major": 2,
       "version_minor": 0
      },
      "text/plain": [
       "Summarize dataset:   0%|          | 0/5 [00:00<?, ?it/s]"
      ]
     },
     "metadata": {},
     "output_type": "display_data"
    },
    {
     "data": {
      "application/vnd.jupyter.widget-view+json": {
       "model_id": "ddad44118d5545e29625e87d7540173e",
       "version_major": 2,
       "version_minor": 0
      },
      "text/plain": [
       "Summarize dataset:   0%|          | 0/5 [00:00<?, ?it/s]"
      ]
     },
     "metadata": {},
     "output_type": "display_data"
    }
   ],
   "source": [
    "comparison = compare([reports[year] for year in years])"
   ]
  },
  {
   "cell_type": "code",
   "execution_count": 7,
   "metadata": {},
   "outputs": [
    {
     "data": {
      "application/vnd.jupyter.widget-view+json": {
       "model_id": "8ffe78c3243d409782cbc926f0d04702",
       "version_major": 2,
       "version_minor": 0
      },
      "text/plain": [
       "Generate report structure:   0%|          | 0/1 [00:00<?, ?it/s]"
      ]
     },
     "metadata": {},
     "output_type": "display_data"
    },
    {
     "data": {
      "application/vnd.jupyter.widget-view+json": {
       "model_id": "5f039aca79154222ac9f4ef50efce4e4",
       "version_major": 2,
       "version_minor": 0
      },
      "text/plain": [
       "Render HTML:   0%|          | 0/1 [00:00<?, ?it/s]"
      ]
     },
     "metadata": {},
     "output_type": "display_data"
    },
    {
     "data": {
      "application/vnd.jupyter.widget-view+json": {
       "model_id": "43768a14b5b74b68bb4a555e2f583b26",
       "version_major": 2,
       "version_minor": 0
      },
      "text/plain": [
       "Export report to file:   0%|          | 0/1 [00:00<?, ?it/s]"
      ]
     },
     "metadata": {},
     "output_type": "display_data"
    }
   ],
   "source": [
    "comparison.to_file('D:/Academic/Project/GRAD/Annually/data/profile_reports/Report_High.html')"
   ]
  }
 ],
 "metadata": {
  "kernelspec": {
   "display_name": "base",
   "language": "python",
   "name": "python3"
  },
  "language_info": {
   "codemirror_mode": {
    "name": "ipython",
    "version": 3
   },
   "file_extension": ".py",
   "mimetype": "text/x-python",
   "name": "python",
   "nbconvert_exporter": "python",
   "pygments_lexer": "ipython3",
   "version": "3.10.12"
  }
 },
 "nbformat": 4,
 "nbformat_minor": 2
}
