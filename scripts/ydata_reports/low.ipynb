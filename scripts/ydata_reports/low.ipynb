{
 "cells": [
  {
   "cell_type": "code",
   "execution_count": 50,
   "metadata": {},
   "outputs": [],
   "source": [
    "import os\n",
    "import numpy as np\n",
    "import xarray as xr\n",
    "import pandas as pd\n",
    "import geopandas as gpd\n",
    "from ydata_profiling import ProfileReport,compare\n",
    "\n",
    "import sys\n",
    "sys.path.append('../../src/')\n",
    "from namelist import *\n",
    "from mask import polygon_to_mask, average_data\n",
    "\n",
    "# silence the warning note\n",
    "import warnings\n",
    "warnings.filterwarnings(\"ignore\")"
   ]
  },
  {
   "cell_type": "markdown",
   "metadata": {},
   "source": [
    "## 将网格文件转换为表格"
   ]
  },
  {
   "cell_type": "code",
   "execution_count": 21,
   "metadata": {},
   "outputs": [],
   "source": [
    "month = \"Sep\"\n",
    "years = [2014,2015,2016]\n",
    "\n",
    "variables = ['SFC_TMP','AIR_TMP','RH','SOL_RAD',\n",
    "             'WSPD10','WDIR10','PRES','CloudFRAC']\n",
    "level = 1000 # units: hPa\n"
   ]
  },
  {
   "cell_type": "code",
   "execution_count": null,
   "metadata": {},
   "outputs": [],
   "source": [
    "shp = gpd.read_file(shp_PRD_adm)\n",
    "grid = xr.open_dataset(grid_d03)\n",
    "lon = grid.LON.squeeze()\n",
    "lat = grid.LAT.squeeze()\n",
    "\n",
    "mask = polygon_to_mask(shp.geometry[0], lon, lat)\n",
    "mask_da = xr.DataArray(mask, dims=('y','x'))"
   ]
  },
  {
   "cell_type": "code",
   "execution_count": 48,
   "metadata": {},
   "outputs": [],
   "source": [
    "def nc_to_df(ds,variables,level,mask_da):\n",
    "    df = {}\n",
    "    for var in variables:\n",
    "        data = ds[var].sel(level=level,method='nearest')\n",
    "        masked_data = data.where(mask_da)\n",
    "        mean = masked_data.mean(dim=('x','y'),skipna=True)\n",
    "        df[var] = mean.to_dataframe().drop(columns=['level'])\n",
    "    df_concat = pd.concat(df,axis=1)\n",
    "    df_concat.columns = df_concat.columns.droplevel(0)\n",
    "    \n",
    "    return df_concat"
   ]
  },
  {
   "cell_type": "markdown",
   "metadata": {},
   "source": [
    "## `ProfileReport`"
   ]
  },
  {
   "cell_type": "code",
   "execution_count": 49,
   "metadata": {},
   "outputs": [],
   "source": [
    "reports = {}\n",
    "\n",
    "for year in years:\n",
    "    ds = xr.open_dataset(os.path.join(processed_dir, f\"{month}_{year}/{month}_{year}_mcip.nc\"))\n",
    "    df = nc_to_df(ds,variables,level,mask_da)\n",
    "    reports[year] = ProfileReport(df, title=f\"{month}_{year}\")\n",
    "    "
   ]
  },
  {
   "cell_type": "code",
   "execution_count": 51,
   "metadata": {},
   "outputs": [
    {
     "data": {
      "application/vnd.jupyter.widget-view+json": {
       "model_id": "20dfe520993e4c36ad0d0445c8a8ccb3",
       "version_major": 2,
       "version_minor": 0
      },
      "text/plain": [
       "Summarize dataset:   0%|          | 0/5 [00:00<?, ?it/s]"
      ]
     },
     "metadata": {},
     "output_type": "display_data"
    },
    {
     "data": {
      "application/vnd.jupyter.widget-view+json": {
       "model_id": "50775ffa193f4292aa6d8944a86aa6da",
       "version_major": 2,
       "version_minor": 0
      },
      "text/plain": [
       "Summarize dataset:   0%|          | 0/5 [00:00<?, ?it/s]"
      ]
     },
     "metadata": {},
     "output_type": "display_data"
    },
    {
     "data": {
      "application/vnd.jupyter.widget-view+json": {
       "model_id": "edb391a1da194ca4a1ff57672c6eb879",
       "version_major": 2,
       "version_minor": 0
      },
      "text/plain": [
       "Summarize dataset:   0%|          | 0/5 [00:00<?, ?it/s]"
      ]
     },
     "metadata": {},
     "output_type": "display_data"
    }
   ],
   "source": [
    "comparison = compare([reports[year] for year in years])"
   ]
  },
  {
   "cell_type": "code",
   "execution_count": 52,
   "metadata": {},
   "outputs": [
    {
     "data": {
      "application/vnd.jupyter.widget-view+json": {
       "model_id": "fbe8cee92ac840f4bed9f36010d89615",
       "version_major": 2,
       "version_minor": 0
      },
      "text/plain": [
       "Generate report structure:   0%|          | 0/1 [00:00<?, ?it/s]"
      ]
     },
     "metadata": {},
     "output_type": "display_data"
    },
    {
     "data": {
      "application/vnd.jupyter.widget-view+json": {
       "model_id": "46050f53d4e8403c9c8f49c6bd0e5090",
       "version_major": 2,
       "version_minor": 0
      },
      "text/plain": [
       "Render HTML:   0%|          | 0/1 [00:00<?, ?it/s]"
      ]
     },
     "metadata": {},
     "output_type": "display_data"
    },
    {
     "data": {
      "application/vnd.jupyter.widget-view+json": {
       "model_id": "992dd85bf5fb4df38bca651e11b403f6",
       "version_major": 2,
       "version_minor": 0
      },
      "text/plain": [
       "Export report to file:   0%|          | 0/1 [00:00<?, ?it/s]"
      ]
     },
     "metadata": {},
     "output_type": "display_data"
    }
   ],
   "source": [
    "comparison.to_file('D:/Academic/Project/GRAD/Annually/data/profile_reports/Report_Low.html')"
   ]
  }
 ],
 "metadata": {
  "kernelspec": {
   "display_name": "base",
   "language": "python",
   "name": "python3"
  },
  "language_info": {
   "codemirror_mode": {
    "name": "ipython",
    "version": 3
   },
   "file_extension": ".py",
   "mimetype": "text/x-python",
   "name": "python",
   "nbconvert_exporter": "python",
   "pygments_lexer": "ipython3",
   "version": "3.10.12"
  }
 },
 "nbformat": 4,
 "nbformat_minor": 2
}
