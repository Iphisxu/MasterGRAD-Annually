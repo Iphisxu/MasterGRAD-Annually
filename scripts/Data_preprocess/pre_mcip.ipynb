{
 "cells": [
  {
   "attachments": {},
   "cell_type": "markdown",
   "metadata": {},
   "source": [
    "# 毕业论文`GRAD`\n",
    "## `MCIP`结果预处理\n",
    "\n",
    "---\n",
    "*@author: Evan*\\\n",
    "*@date: 2023-10-31*"
   ]
  },
  {
   "cell_type": "code",
   "execution_count": 1,
   "metadata": {},
   "outputs": [],
   "source": [
    "import numpy as np\n",
    "\n",
    "import sys\n",
    "sys.path.append('../../src/')\n",
    "from preprocess import process_mcip\n",
    "\n",
    "# silence the warning note\n",
    "import warnings\n",
    "warnings.filterwarnings(\"ignore\")"
   ]
  },
  {
   "cell_type": "code",
   "execution_count": 2,
   "metadata": {},
   "outputs": [],
   "source": [
    "# set time range\n",
    "years = np.array([2014,2015,2016,2019,2021,2022])\n",
    "# month = \"Sep\"\n",
    "month = \"Jul\""
   ]
  },
  {
   "cell_type": "code",
   "execution_count": 3,
   "metadata": {},
   "outputs": [
    {
     "name": "stdout",
     "output_type": "stream",
     "text": [
      "Processing MCIP for [ Jul, 2014 ]\n",
      "Calculating RH ...\n",
      "Creating dataset ...\n",
      "Export compressed file ...\n",
      "Completed!\n",
      "==========\n",
      "Processing MCIP for [ Jul, 2015 ]\n",
      "Calculating RH ...\n",
      "Creating dataset ...\n",
      "Export compressed file ...\n",
      "Completed!\n",
      "==========\n",
      "Processing MCIP for [ Jul, 2016 ]\n",
      "Calculating RH ...\n",
      "Creating dataset ...\n",
      "Export compressed file ...\n",
      "Completed!\n",
      "==========\n",
      "Processing MCIP for [ Jul, 2019 ]\n",
      "Calculating RH ...\n",
      "Creating dataset ...\n",
      "Export compressed file ...\n",
      "Completed!\n",
      "==========\n",
      "Processing MCIP for [ Jul, 2021 ]\n",
      "Calculating RH ...\n",
      "Creating dataset ...\n",
      "Export compressed file ...\n",
      "Completed!\n",
      "==========\n",
      "Processing MCIP for [ Jul, 2022 ]\n",
      "Calculating RH ...\n",
      "Creating dataset ...\n",
      "Export compressed file ...\n",
      "Completed!\n",
      "==========\n"
     ]
    }
   ],
   "source": [
    "for year in years:\n",
    "    process_mcip(year,month)"
   ]
  }
 ],
 "metadata": {
  "kernelspec": {
   "display_name": "base",
   "language": "python",
   "name": "python3"
  },
  "language_info": {
   "codemirror_mode": {
    "name": "ipython",
    "version": 3
   },
   "file_extension": ".py",
   "mimetype": "text/x-python",
   "name": "python",
   "nbconvert_exporter": "python",
   "pygments_lexer": "ipython3",
   "version": "3.10.12"
  },
  "orig_nbformat": 4
 },
 "nbformat": 4,
 "nbformat_minor": 2
}
