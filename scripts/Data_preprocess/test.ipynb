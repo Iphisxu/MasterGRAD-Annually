{
 "cells": [
  {
   "cell_type": "markdown",
   "metadata": {},
   "source": [
    "# 检查处理后的数据量级有没有问题"
   ]
  },
  {
   "cell_type": "code",
   "execution_count": 1,
   "metadata": {},
   "outputs": [],
   "source": [
    "import os\n",
    "import numpy as np\n",
    "import xarray as xr\n",
    "\n",
    "import sys\n",
    "sys.path.append('../../src/')\n",
    "from namelist import *\n",
    "\n",
    "# silence the warning note\n",
    "import warnings\n",
    "warnings.filterwarnings(\"ignore\")"
   ]
  },
  {
   "cell_type": "code",
   "execution_count": 2,
   "metadata": {},
   "outputs": [],
   "source": [
    "month = \"Sep\"\n",
    "\n",
    "low_years = np.array([2016,2015,2014]) # 此处年份倒置是为了方便后续创建dataarray时取用时间维度\n",
    "high_years = np.array([2022,2021,2019])\n",
    "\n",
    "low_files  = [os.path.join(processed_dir, f\"{month}_{year}/{month}_{year}_mcip.nc\") for year in low_years]\n",
    "high_files = [os.path.join(processed_dir, f\"{month}_{year}/{month}_{year}_mcip.nc\") for year in high_years]"
   ]
  },
  {
   "cell_type": "code",
   "execution_count": 3,
   "metadata": {},
   "outputs": [
    {
     "name": "stdout",
     "output_type": "stream",
     "text": [
      "2016 : 38.395416259765625\n",
      "2015 : 37.338226318359375\n",
      "2014 : 37.69451904296875\n"
     ]
    }
   ],
   "source": [
    "for i,year in enumerate(low_years):\n",
    "    file = xr.open_dataset(low_files[i])\n",
    "    SFC_TMP = file.SFC_TMP[:,0,:,:]\n",
    "    temp = SFC_TMP.max()\n",
    "    print(year,':',temp.values)"
   ]
  },
  {
   "cell_type": "code",
   "execution_count": 4,
   "metadata": {},
   "outputs": [
    {
     "name": "stdout",
     "output_type": "stream",
     "text": [
      "2022 : 38.54364013671875\n",
      "2021 : 38.65814208984375\n",
      "2019 : 38.2845458984375\n"
     ]
    }
   ],
   "source": [
    "for i,year in enumerate(high_years):\n",
    "    file = xr.open_dataset(high_files[i])\n",
    "    SFC_TMP = file.SFC_TMP[:,0,:,:]\n",
    "    temp = SFC_TMP.max()\n",
    "    print(year,':',temp.values)"
   ]
  }
 ],
 "metadata": {
  "kernelspec": {
   "display_name": "base",
   "language": "python",
   "name": "python3"
  },
  "language_info": {
   "codemirror_mode": {
    "name": "ipython",
    "version": 3
   },
   "file_extension": ".py",
   "mimetype": "text/x-python",
   "name": "python",
   "nbconvert_exporter": "python",
   "pygments_lexer": "ipython3",
   "version": "3.10.12"
  }
 },
 "nbformat": 4,
 "nbformat_minor": 2
}
