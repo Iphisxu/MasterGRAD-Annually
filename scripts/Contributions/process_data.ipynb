{
 "cells": [
  {
   "cell_type": "markdown",
   "metadata": {},
   "source": [
    "# 毕业论文`GRAD`\n",
    "## 计算贡献值\n",
    "\n",
    "---\n",
    "*@author: Evan*\\\n",
    "*@date: 2023-11-14*"
   ]
  },
  {
   "cell_type": "code",
   "execution_count": 3,
   "metadata": {},
   "outputs": [],
   "source": [
    "import numpy as np\n",
    "import pandas as pd\n",
    "import xarray as xr\n",
    "import geopandas as gpd\n",
    "\n",
    "import sys\n",
    "sys.path.append('../../src/')\n",
    "from mask import polygon_to_mask\n",
    "from namelist import *\n",
    "\n",
    "# silence the warning note\n",
    "import warnings\n",
    "warnings.filterwarnings(\"ignore\")"
   ]
  },
  {
   "cell_type": "markdown",
   "metadata": {},
   "source": [
    "导出模拟、观测与模拟试验的各年份的O3平均值"
   ]
  },
  {
   "cell_type": "code",
   "execution_count": 4,
   "metadata": {},
   "outputs": [],
   "source": [
    "simvar = 'O3'\n",
    "obsvar = 'O3'"
   ]
  },
  {
   "cell_type": "code",
   "execution_count": 5,
   "metadata": {},
   "outputs": [
    {
     "name": "stdout",
     "output_type": "stream",
     "text": [
      "Complete 2014\n",
      "Complete 2015\n",
      "Complete 2016\n",
      "Complete 2019\n",
      "Complete 2021\n",
      "Complete 2022\n",
      "Complete 2019\n",
      "Complete 2021\n",
      "Complete 2022\n"
     ]
    }
   ],
   "source": [
    "df = pd.DataFrame(\n",
    "    index=pd.date_range(start='2023-09-01T00', end='2023-09-30T23', freq='H')\n",
    ")\n",
    "years = [2014,2015,2016,2019,2021,2022]\n",
    "\n",
    "for year in years:\n",
    "    ds = xr.open_dataset(datadir + f'processed/Sep_{year}/Sep_{year}_chem.nc')\n",
    "    data_sim = ds[simvar][:,0,:,:]\n",
    "\n",
    "    shp = gpd.read_file(shp_PRD_adm)\n",
    "    lon = data_sim.longitude\n",
    "    lat = data_sim.latitude\n",
    "    mask    = polygon_to_mask(shp.geometry[0], lon, lat)\n",
    "    mask_da = xr.DataArray(mask, dims=('y','x'))\n",
    "    masked_sim  = data_sim.where(mask_da)\n",
    "    sim    = masked_sim.mean(dim=('x','y'),skipna=True)\n",
    "\n",
    "    dfobs = pd.read_excel(obsSep + f'site_{obsvar}_{year}.xlsx',index_col=0)\n",
    "    obs = dfobs.mean(axis=1,skipna=True)\n",
    "    obs.interpolate(method='linear',inplace=True)\n",
    "    \n",
    "    df[f'sim_{year}']=sim\n",
    "    df[f'obs_{year}']=obs.values\n",
    "    print(f'Complete {year}')\n",
    "\n",
    "for year in [2019,2021,2022]:\n",
    "    ds = xr.open_dataset(datadir + f'processed/Annually_Sep_{year}/Sep_{year}_chem.nc')\n",
    "    data_sim = ds[simvar][:,0,:,:]\n",
    "\n",
    "    shp = gpd.read_file(shp_PRD_adm)\n",
    "    lon = data_sim.longitude\n",
    "    lat = data_sim.latitude\n",
    "    mask    = polygon_to_mask(shp.geometry[0], lon, lat)\n",
    "    mask_da = xr.DataArray(mask, dims=('y','x'))\n",
    "    masked_sim  = data_sim.where(mask_da)\n",
    "    sim    = masked_sim.mean(dim=('x','y'),skipna=True)\n",
    "    df[f'sen_{year}']=sim\n",
    "    print(f'Complete Sens {year}')"
   ]
  },
  {
   "cell_type": "code",
   "execution_count": 7,
   "metadata": {},
   "outputs": [],
   "source": [
    "df.to_excel(datadir + 'Contribution/contribution_hours.xlsx',index=True)"
   ]
  }
 ],
 "metadata": {
  "kernelspec": {
   "display_name": "base",
   "language": "python",
   "name": "python3"
  },
  "language_info": {
   "codemirror_mode": {
    "name": "ipython",
    "version": 3
   },
   "file_extension": ".py",
   "mimetype": "text/x-python",
   "name": "python",
   "nbconvert_exporter": "python",
   "pygments_lexer": "ipython3",
   "version": "3.10.12"
  }
 },
 "nbformat": 4,
 "nbformat_minor": 2
}
