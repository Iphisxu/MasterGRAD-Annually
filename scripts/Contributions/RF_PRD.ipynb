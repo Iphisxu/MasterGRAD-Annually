{
 "cells": [
  {
   "cell_type": "markdown",
   "metadata": {},
   "source": [
    "# 毕业论文`GRAD`\n",
    "## 建立多元线性回归模型，定量评估影响\n",
    "\n",
    "*`Evan`*\\\n",
    "*`2023-11-16`*\n",
    "---"
   ]
  },
  {
   "cell_type": "code",
   "execution_count": 1,
   "metadata": {},
   "outputs": [],
   "source": [
    "import numpy as np\n",
    "import pandas as pd\n",
    "\n",
    "import sys\n",
    "sys.path.append('../../src/')\n",
    "from namelist import *\n",
    "from RandomForest import read_data, rf_importance\n",
    "\n",
    "# silence the warning note\n",
    "import warnings\n",
    "warnings.filterwarnings(\"ignore\")"
   ]
  },
  {
   "cell_type": "markdown",
   "metadata": {},
   "source": [
    "## 读取数据：将三年数据拼接"
   ]
  },
  {
   "cell_type": "code",
   "execution_count": 2,
   "metadata": {},
   "outputs": [],
   "source": [
    "lowyears  = [2014,2015,2016]\n",
    "highyears = [2019,2021,2022]\n",
    "month     = 'Sep'\n",
    "region    = 'PRD'\n",
    "datapath  = datadir + 'Contribution/data/'\n",
    "\n",
    "df_low  = read_data(lowyears,month,region,datapath)\n",
    "df_high = read_data(highyears,month,region,datapath)\n"
   ]
  },
  {
   "cell_type": "markdown",
   "metadata": {},
   "source": [
    "## 建立模型"
   ]
  },
  {
   "cell_type": "code",
   "execution_count": 4,
   "metadata": {},
   "outputs": [
    {
     "name": "stdout",
     "output_type": "stream",
     "text": [
      "Mean Squared Error (Random Forest): 248.9373862988073\n",
      "R-squared (Random Forest): 0.9017299546822182\n",
      "SFC_TMP: 0.331585184815924\n",
      "SOL_RAD: 0.22788978442386423\n",
      "PM25: 0.07760804223425401\n",
      "RH: 0.06818778220291136\n",
      "VOC: 0.06697488308969808\n",
      "NO2: 0.06339373211852196\n",
      "WSPD10: 0.0522472827155312\n",
      "WDIR10: 0.03521300197682822\n",
      "CloudFRAC: 0.029441699196627223\n",
      "ISOP: 0.027328072974937414\n",
      "PRES: 0.020130534250902374\n",
      "\n",
      "===============================================\n",
      "\n",
      "Mean Squared Error (Random Forest): 207.31794566851136\n",
      "R-squared (Random Forest): 0.9013102325046476\n",
      "SOL_RAD: 0.3972559989781841\n",
      "SFC_TMP: 0.1862394350066156\n",
      "PM25: 0.13969238241504567\n",
      "RH: 0.054293038660430254\n",
      "WSPD10: 0.04535568628818955\n",
      "VOC: 0.044691767836233236\n",
      "WDIR10: 0.04025062325819699\n",
      "NO2: 0.0252041571724799\n",
      "CloudFRAC: 0.024041518890028514\n",
      "PRES: 0.022554670772480048\n",
      "ISOP: 0.020420720722116224\n"
     ]
    }
   ],
   "source": [
    "# 设置变量列表和目标变量\n",
    "variants = ['SFC_TMP', 'SOL_RAD', 'RH', 'PRES', \n",
    "            'WSPD10', 'WDIR10','CloudFRAC',\n",
    "            'NO2', 'VOC', 'PM25', 'ISOP'] # 'PBLH',\n",
    "target = 'O3'\n",
    "\n",
    "low_importance = rf_importance(df_low,variants,target)\n",
    "print('\\n===============================================\\n')\n",
    "high_importance = rf_importance(df_high,variants,target)\n"
   ]
  },
  {
   "cell_type": "markdown",
   "metadata": {},
   "source": [
    "## 输出结果"
   ]
  },
  {
   "cell_type": "code",
   "execution_count": 12,
   "metadata": {},
   "outputs": [],
   "source": [
    "# 合并两组结果，对列重命名\n",
    "dfoutput = pd.concat([low_importance,high_importance],axis=1)\n",
    "dfoutput.columns=['Low','High']\n",
    "\n",
    "# randomforest_concatinate_PRDaveraged\n",
    "filepath = 'D:/data/Graduation/Contribution/RandomForest_output/'\n",
    "filename = f'RF_{region}.xlsx'\n",
    "dfoutput.to_excel(filepath + filename,index=True)"
   ]
  }
 ],
 "metadata": {
  "kernelspec": {
   "display_name": "base",
   "language": "python",
   "name": "python3"
  },
  "language_info": {
   "codemirror_mode": {
    "name": "ipython",
    "version": 3
   },
   "file_extension": ".py",
   "mimetype": "text/x-python",
   "name": "python",
   "nbconvert_exporter": "python",
   "pygments_lexer": "ipython3",
   "version": "3.10.12"
  }
 },
 "nbformat": 4,
 "nbformat_minor": 2
}
