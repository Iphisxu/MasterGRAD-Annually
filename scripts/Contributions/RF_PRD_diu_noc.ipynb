{
 "cells": [
  {
   "cell_type": "markdown",
   "metadata": {},
   "source": [
    "# 毕业论文`GRAD`\n",
    "## 建立多元线性回归模型，定量评估影响\n",
    "\n",
    "*`Evan`*\\\n",
    "*`2023-11-16`*\n",
    "---"
   ]
  },
  {
   "cell_type": "code",
   "execution_count": 1,
   "metadata": {},
   "outputs": [],
   "source": [
    "import numpy as np\n",
    "import pandas as pd\n",
    "\n",
    "import sys\n",
    "sys.path.append('../../src/')\n",
    "from namelist import *\n",
    "from RandomForest import read_data, rf_importance\n",
    "\n",
    "# silence the warning note\n",
    "import warnings\n",
    "warnings.filterwarnings(\"ignore\")"
   ]
  },
  {
   "cell_type": "markdown",
   "metadata": {},
   "source": [
    "## 读取数据：将三年数据拼接"
   ]
  },
  {
   "cell_type": "code",
   "execution_count": 2,
   "metadata": {},
   "outputs": [],
   "source": [
    "lowyears  = [2014,2015,2016]\n",
    "highyears = [2019,2021,2022]\n",
    "month     = 'Sep'\n",
    "region    = 'PRD'\n",
    "datapath  = datadir + 'Contribution/data/'\n",
    "\n",
    "df_low  = read_data(lowyears,month,region,datapath)\n",
    "df_high = read_data(highyears,month,region,datapath)\n"
   ]
  },
  {
   "cell_type": "code",
   "execution_count": 21,
   "metadata": {},
   "outputs": [
    {
     "data": {
      "text/plain": [
       "0     90\n",
       "1     90\n",
       "2     90\n",
       "3     90\n",
       "4     90\n",
       "5     90\n",
       "6     90\n",
       "7     90\n",
       "19    90\n",
       "20    90\n",
       "21    90\n",
       "22    90\n",
       "23    90\n",
       "18    44\n",
       "dtype: int64"
      ]
     },
     "execution_count": 21,
     "metadata": {},
     "output_type": "execute_result"
    }
   ],
   "source": [
    "df_low[df_low['SOL_RAD']<100].index.hour.value_counts()"
   ]
  },
  {
   "cell_type": "markdown",
   "metadata": {},
   "source": [
    "# 保留白天时刻，去除夜间时刻"
   ]
  },
  {
   "cell_type": "code",
   "execution_count": 6,
   "metadata": {},
   "outputs": [],
   "source": [
    "diurnal_low  = df_low.between_time('8:00','17:00')\n",
    "diurnal_high = df_high.between_time('8:00','17:00')"
   ]
  },
  {
   "cell_type": "markdown",
   "metadata": {},
   "source": [
    "## 建立模型"
   ]
  },
  {
   "cell_type": "code",
   "execution_count": 7,
   "metadata": {},
   "outputs": [
    {
     "name": "stdout",
     "output_type": "stream",
     "text": [
      "Mean Squared Error (Random Forest): 235.98486059792899\n",
      "R-squared (Random Forest): 0.8278199813488083\n",
      "SFC_TMP: 0.3103251843928805\n",
      "PM25: 0.13630717295486425\n",
      "VOC: 0.1190972485210737\n",
      "WDIR10: 0.1101720529725706\n",
      "RH: 0.0906134527645986\n",
      "SOL_RAD: 0.08903222509371947\n",
      "WSPD10: 0.04556273487548025\n",
      "NO2: 0.032168340934352474\n",
      "PRES: 0.025277820070481672\n",
      "CloudFRAC: 0.023673353456342482\n",
      "ISOP: 0.017770413963635993\n",
      "\n",
      "===============================================\n",
      "\n",
      "Mean Squared Error (Random Forest): 232.1614435128702\n",
      "R-squared (Random Forest): 0.8557529752641573\n",
      "PM25: 0.31758552876456725\n",
      "SFC_TMP: 0.30644262469030065\n",
      "SOL_RAD: 0.0935777720904444\n",
      "WDIR10: 0.07971948743312342\n",
      "VOC: 0.06426734398964742\n",
      "NO2: 0.03003289513889454\n",
      "WSPD10: 0.02984995462942293\n",
      "RH: 0.022738631399963273\n",
      "ISOP: 0.020874921384497376\n",
      "CloudFRAC: 0.01865572753532769\n",
      "PRES: 0.016255112943811094\n"
     ]
    }
   ],
   "source": [
    "# 设置变量列表和目标变量\n",
    "variants = ['SFC_TMP', 'SOL_RAD', 'RH', 'PRES', \n",
    "            'WSPD10', 'WDIR10','CloudFRAC',\n",
    "            'NO2', 'VOC', 'PM25', 'ISOP'] # 'PBLH',\n",
    "target = 'O3'\n",
    "\n",
    "low_importance = rf_importance(diurnal_low,variants,target)\n",
    "print('\\n===============================================\\n')\n",
    "high_importance = rf_importance(diurnal_high,variants,target)\n"
   ]
  },
  {
   "cell_type": "markdown",
   "metadata": {},
   "source": [
    "## 输出结果"
   ]
  },
  {
   "cell_type": "code",
   "execution_count": 22,
   "metadata": {},
   "outputs": [],
   "source": [
    "# 合并两组结果，对列重命名\n",
    "dfoutput = pd.concat([low_importance,high_importance],axis=1)\n",
    "dfoutput.columns=['Low','High']\n",
    "\n",
    "# randomforest_concatinate_PRDaveraged\n",
    "filepath = 'D:/data/Graduation/Contribution/RandomForest_output/'\n",
    "filename = f'RF_{region}_diurnal.xlsx'\n",
    "dfoutput.to_excel(filepath + filename,index=True)"
   ]
  },
  {
   "cell_type": "markdown",
   "metadata": {},
   "source": [
    "# 保留夜间时刻，去除白天时刻"
   ]
  },
  {
   "cell_type": "code",
   "execution_count": 23,
   "metadata": {},
   "outputs": [],
   "source": [
    "nocturnal_low  = df_low.between_time('18:00','7:00')\n",
    "nocturnal_high = df_high.between_time('18:00','7:00')"
   ]
  },
  {
   "cell_type": "code",
   "execution_count": 27,
   "metadata": {},
   "outputs": [
    {
     "name": "stdout",
     "output_type": "stream",
     "text": [
      "Mean Squared Error (Random Forest): 244.72246687646378\n",
      "R-squared (Random Forest): 0.8037328008857931\n",
      "RH: 0.24707804312265036\n",
      "NO2: 0.12042973891121535\n",
      "WSPD10: 0.12037646762761597\n",
      "VOC: 0.11775346538880972\n",
      "PM25: 0.09579234194210147\n",
      "CloudFRAC: 0.07847701951809223\n",
      "SFC_TMP: 0.06783974261873522\n",
      "WDIR10: 0.052472188233266416\n",
      "PRES: 0.040375215343632004\n",
      "ISOP: 0.039832991122166976\n",
      "SOL_RAD: 0.019572786171714342\n",
      "\n",
      "===============================================\n",
      "\n",
      "Mean Squared Error (Random Forest): 240.01530830847997\n",
      "R-squared (Random Forest): 0.7805373931851759\n",
      "RH: 0.2659470037964875\n",
      "PM25: 0.11394967327091982\n",
      "WSPD10: 0.10930322670051174\n",
      "CloudFRAC: 0.103246282669609\n",
      "VOC: 0.10229825162019415\n",
      "SFC_TMP: 0.07041265506905854\n",
      "PRES: 0.06895357848421083\n",
      "WDIR10: 0.06365887457754588\n",
      "ISOP: 0.052933819690220874\n",
      "NO2: 0.03761865502589029\n",
      "SOL_RAD: 0.011677979095351378\n"
     ]
    }
   ],
   "source": [
    "# 设置变量列表和目标变量\n",
    "variants = ['SFC_TMP', 'SOL_RAD', 'RH', 'PRES', \n",
    "            'WSPD10', 'WDIR10','CloudFRAC',\n",
    "            'NO2', 'VOC', 'PM25', 'ISOP'] # 'PBLH',\n",
    "target = 'O3'\n",
    "\n",
    "low_importance = rf_importance(nocturnal_low,variants,target)\n",
    "print('\\n===============================================\\n')\n",
    "high_importance = rf_importance(nocturnal_high,variants,target)\n"
   ]
  },
  {
   "cell_type": "code",
   "execution_count": 28,
   "metadata": {},
   "outputs": [],
   "source": [
    "# 合并两组结果，对列重命名\n",
    "dfoutput = pd.concat([low_importance,high_importance],axis=1)\n",
    "dfoutput.columns=['Low','High']\n",
    "\n",
    "# randomforest_concatinate_PRDaveraged\n",
    "filepath = 'D:/data/Graduation/Contribution/RandomForest_output/'\n",
    "filename = f'RF_{region}_nocturnal.xlsx'\n",
    "dfoutput.to_excel(filepath + filename,index=True)"
   ]
  }
 ],
 "metadata": {
  "kernelspec": {
   "display_name": "base",
   "language": "python",
   "name": "python3"
  },
  "language_info": {
   "codemirror_mode": {
    "name": "ipython",
    "version": 3
   },
   "file_extension": ".py",
   "mimetype": "text/x-python",
   "name": "python",
   "nbconvert_exporter": "python",
   "pygments_lexer": "ipython3",
   "version": "3.10.12"
  }
 },
 "nbformat": 4,
 "nbformat_minor": 2
}
