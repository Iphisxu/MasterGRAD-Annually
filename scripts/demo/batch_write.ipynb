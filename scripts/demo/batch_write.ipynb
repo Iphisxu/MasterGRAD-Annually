{
 "cells": [
  {
   "cell_type": "code",
   "execution_count": null,
   "metadata": {},
   "outputs": [],
   "source": [
    "import pygrib\n",
    "import numpy as np\n",
    "import os"
   ]
  },
  {
   "cell_type": "code",
   "execution_count": null,
   "metadata": {},
   "outputs": [],
   "source": [
    "def read_grib2_files(years, month, day, hour, variable_name, demodir):\n",
    "    # Initialize an array to store data from each year\n",
    "    yearly_data = []\n",
    "\n",
    "    for year in years:\n",
    "        # Construct the file name based on the specified pattern\n",
    "        file_name = f'fnl_{year:04d}{month:02d}{day:02d}_{hour:02d}_00.grib2'\n",
    "        file_path = os.path.join(demodir, file_name)\n",
    "\n",
    "        # Open the GRIB2 file\n",
    "        grb = pygrib.open(file_path)\n",
    "\n",
    "        # Select the variable based on the given name\n",
    "        var = grb.select(name=variable_name)\n",
    "\n",
    "        # Append the data to the yearly_data list\n",
    "        yearly_data.extend([message.values for message in var])\n",
    "\n",
    "        # Close the GRIB2 file\n",
    "        grb.close()\n",
    "\n",
    "    # Convert the list of arrays to a NumPy array for easier manipulation\n",
    "    yearly_data = np.array(yearly_data)\n",
    "\n",
    "    return yearly_data"
   ]
  },
  {
   "cell_type": "code",
   "execution_count": null,
   "metadata": {},
   "outputs": [],
   "source": [
    "def average_and_write_grib2(years, month, day, hour, variable_name, demodir):\n",
    "    # Read data from the specified files\n",
    "    yearly_data = read_grib2_files(years, month, day, hour, variable_name, demodir)\n",
    "\n",
    "    # Calculate the average along the time axis (axis=0)\n",
    "    average_data = np.mean(yearly_data, axis=0)\n",
    "\n",
    "    # Open the first GRIB2 file to get the messages\n",
    "    first_year = years[0]\n",
    "    first_file_name = f'fnl_{first_year:04d}{month:02d}{day:02d}_{hour:02d}_00.grib2'\n",
    "    first_file_path = os.path.join(demodir, first_file_name)\n",
    "    first_grb = pygrib.open(first_file_path)\n",
    "    messages = first_grb.select()\n",
    "    # Close the first year's GRIB2 file\n",
    "    first_grb.close()\n",
    "\n",
    "    # Construct the output file name\n",
    "    output_file_name = f'avg_{first_year:04d}{month:02d}{day:02d}_{hour:02d}_00.grib2'\n",
    "    output_file_path = os.path.join(demodir, output_file_name)\n",
    "\n",
    "    # Open the output GRIB2 file for writing\n",
    "    grbout = open(output_file_path, 'wb')\n",
    "    # Write all messages from the first year's file\n",
    "    for message in messages:\n",
    "        grbout.write(message.tostring())\n",
    "\n",
    "    # Write the average data as a new message\n",
    "    grbout.write(average_data)"
   ]
  },
  {
   "cell_type": "code",
   "execution_count": null,
   "metadata": {},
   "outputs": [],
   "source": [
    "\n",
    "# 使用示例\n",
    "years = list(range(2014, 2023))  # 2014年到2022年\n",
    "month = 6\n",
    "day = 16\n",
    "hour = 0\n",
    "variable_name = 'Temperature'\n",
    "demodir = '/path/to/your/files'  # 替换为你的实际文件路径\n",
    "\n",
    "average_and_write_grib2(years, month, day, hour, variable_name, demodir)\n"
   ]
  }
 ],
 "metadata": {
  "language_info": {
   "name": "python"
  }
 },
 "nbformat": 4,
 "nbformat_minor": 2
}
